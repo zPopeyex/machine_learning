{
  "nbformat": 4,
  "nbformat_minor": 0,
  "metadata": {
    "colab": {
      "provenance": []
    },
    "kernelspec": {
      "name": "python3",
      "display_name": "Python 3"
    },
    "language_info": {
      "name": "python"
    }
  },
  "cells": [
    {
      "cell_type": "code",
      "execution_count": 89,
      "metadata": {
        "id": "lJYSNMz-fsV2"
      },
      "outputs": [],
      "source": [
        "import sklearn as skl\n",
        "import numpy as np\n",
        "import scipy as sc\n",
        "import pandas as pd\n",
        "import matplotlib.pyplot as plt\n",
        "\n",
        "from sklearn import preprocessing, svm\n",
        "from sklearn.model_selection import train_test_split\n",
        "from sklearn.linear_model import LinearRegression"
      ]
    },
    {
      "cell_type": "code",
      "source": [
        "boston_dataset = pd.read_csv(\"/content/sample_data/Boston.csv\")\n",
        "\n",
        "print(boston_dataset.describe)\n",
        "\n",
        "X = boston_dataset\n",
        "X.describe()\n",
        "\n",
        "\n",
        "n, p = X.shape\n",
        "n, p\n",
        "rm = X[:2]"
      ],
      "metadata": {
        "colab": {
          "base_uri": "https://localhost:8080/",
          "height": 0
        },
        "id": "t3drFWDdf-D6",
        "outputId": "9386c84b-532c-4be9-b690-a5892ebc9739"
      },
      "execution_count": 47,
      "outputs": [
        {
          "output_type": "stream",
          "name": "stdout",
          "text": [
            "<bound method NDFrame.describe of      Unnamed: 0     crim    zn  indus  chas    nox     rm   age     dis  rad  \\\n",
            "0             1  0.00632  18.0   2.31     0  0.538  6.575  65.2  4.0900    1   \n",
            "1             2  0.02731   0.0   7.07     0  0.469  6.421  78.9  4.9671    2   \n",
            "2             3  0.02729   0.0   7.07     0  0.469  7.185  61.1  4.9671    2   \n",
            "3             4  0.03237   0.0   2.18     0  0.458  6.998  45.8  6.0622    3   \n",
            "4             5  0.06905   0.0   2.18     0  0.458  7.147  54.2  6.0622    3   \n",
            "..          ...      ...   ...    ...   ...    ...    ...   ...     ...  ...   \n",
            "501         502  0.06263   0.0  11.93     0  0.573  6.593  69.1  2.4786    1   \n",
            "502         503  0.04527   0.0  11.93     0  0.573  6.120  76.7  2.2875    1   \n",
            "503         504  0.06076   0.0  11.93     0  0.573  6.976  91.0  2.1675    1   \n",
            "504         505  0.10959   0.0  11.93     0  0.573  6.794  89.3  2.3889    1   \n",
            "505         506  0.04741   0.0  11.93     0  0.573  6.030  80.8  2.5050    1   \n",
            "\n",
            "     tax  ptratio   black  lstat  medv  \n",
            "0    296     15.3  396.90   4.98  24.0  \n",
            "1    242     17.8  396.90   9.14  21.6  \n",
            "2    242     17.8  392.83   4.03  34.7  \n",
            "3    222     18.7  394.63   2.94  33.4  \n",
            "4    222     18.7  396.90   5.33  36.2  \n",
            "..   ...      ...     ...    ...   ...  \n",
            "501  273     21.0  391.99   9.67  22.4  \n",
            "502  273     21.0  396.90   9.08  20.6  \n",
            "503  273     21.0  396.90   5.64  23.9  \n",
            "504  273     21.0  393.45   6.48  22.0  \n",
            "505  273     21.0  396.90   7.88  11.9  \n",
            "\n",
            "[506 rows x 15 columns]>\n"
          ]
        }
      ]
    },
    {
      "cell_type": "markdown",
      "source": [
        "# **a) El precio minimo es:**\n"
      ],
      "metadata": {
        "id": "wfPsyNImka5b"
      }
    },
    {
      "cell_type": "code",
      "source": [
        "min = np.min(boston_dataset.medv)\n",
        "print(min)"
      ],
      "metadata": {
        "colab": {
          "base_uri": "https://localhost:8080/",
          "height": 0
        },
        "id": "mG6FfUrtjZIz",
        "outputId": "a768b008-c42c-468a-c0f2-df16717042a1"
      },
      "execution_count": 30,
      "outputs": [
        {
          "output_type": "stream",
          "name": "stdout",
          "text": [
            "5.0\n"
          ]
        }
      ]
    },
    {
      "cell_type": "markdown",
      "source": [
        "# **b) El precio maximo es:**\n"
      ],
      "metadata": {
        "id": "1ofkZARmkoe8"
      }
    },
    {
      "cell_type": "code",
      "source": [
        "max = np.max(boston_dataset.medv)\n",
        "print(max)"
      ],
      "metadata": {
        "colab": {
          "base_uri": "https://localhost:8080/",
          "height": 0
        },
        "id": "35mebGn5kwx7",
        "outputId": "ea49a4ff-6825-4349-dc88-cc70903a53d7"
      },
      "execution_count": 31,
      "outputs": [
        {
          "output_type": "stream",
          "name": "stdout",
          "text": [
            "50.0\n"
          ]
        }
      ]
    },
    {
      "cell_type": "markdown",
      "source": [
        "# **c) El precio medio es:**\n"
      ],
      "metadata": {
        "id": "tlnFf4X9nGXl"
      }
    },
    {
      "cell_type": "code",
      "source": [
        "medio = boston_dataset['medv'].mean()\n",
        "print(medio)"
      ],
      "metadata": {
        "colab": {
          "base_uri": "https://localhost:8080/",
          "height": 0
        },
        "id": "mANjJRvgnL8t",
        "outputId": "18620da9-0a27-4701-ba37-eb6a93fd3a16"
      },
      "execution_count": 41,
      "outputs": [
        {
          "output_type": "stream",
          "name": "stdout",
          "text": [
            "22.532806324110677\n"
          ]
        }
      ]
    },
    {
      "cell_type": "markdown",
      "source": [
        "# **d) La desviación estándar.**"
      ],
      "metadata": {
        "id": "uY4n9ZIbpZf-"
      }
    },
    {
      "cell_type": "code",
      "source": [
        "desviacion = boston_dataset['medv'].std()\n",
        "print(desviacion)"
      ],
      "metadata": {
        "colab": {
          "base_uri": "https://localhost:8080/",
          "height": 0
        },
        "id": "M6fSUFuCpcXm",
        "outputId": "926f26c9-b1d4-4ddd-bf12-08c8c6437323"
      },
      "execution_count": 44,
      "outputs": [
        {
          "output_type": "stream",
          "name": "stdout",
          "text": [
            "9.197104087379818\n"
          ]
        }
      ]
    },
    {
      "cell_type": "markdown",
      "source": [
        "# **e) ¿Determine si existe alguna relación entre la variable RM y MEDV?**"
      ],
      "metadata": {
        "id": "5lRGnmJyqilW"
      }
    },
    {
      "cell_type": "markdown",
      "source": [
        "**RM (Número medio de habitaciones)**\n",
        "\n",
        "\n",
        "---\n",
        "\n",
        "\n",
        "**MEDV (Valor medio de la vivienda)**\n",
        "\n",
        "\n"
      ],
      "metadata": {
        "id": "fh4naZzPs7ve"
      }
    },
    {
      "cell_type": "code",
      "source": [
        "def relation_rm_medv(rm, means):\n",
        "  nX = boston_dataset.rm\n",
        "  nY = boston_dataset.medv\n",
        "  plt.scatter(nX, nY, alpha=0.3)\n",
        "  plt.ylabel('Valor medio de la vivienda')\n",
        "  plt.xlabel('Número de habitaciones')\n",
        "  plt.show()\n",
        "  return np.corrcoef(rm, means)[0, 1]\n"
      ],
      "metadata": {
        "id": "uqzm1Nwiqmj2"
      },
      "execution_count": 69,
      "outputs": []
    },
    {
      "cell_type": "code",
      "source": [
        "print(\"La relación entre RM y MEDV: \", relation_rm_medv(nX, nY))"
      ],
      "metadata": {
        "colab": {
          "base_uri": "https://localhost:8080/",
          "height": 296
        },
        "id": "GnHdpM5mzHGJ",
        "outputId": "aa258a30-dfa1-49a9-8e76-b7b9283f41e4"
      },
      "execution_count": 71,
      "outputs": [
        {
          "output_type": "display_data",
          "data": {
            "text/plain": [
              "<Figure size 432x288 with 1 Axes>"
            ],
            "image/png": "[encoded data removed]"
          },
          "metadata": {
            "needs_background": "light"
          }
        },
        {
          "output_type": "stream",
          "name": "stdout",
          "text": [
            "La relación entre RM y MEDV:  0.6953599470715393\n"
          ]
        }
      ]
    },
    {
      "cell_type": "markdown",
      "source": [
        "**R/** Existe una relación positiva lineal entre la variable RM y MEDV\n",
        "Tambien podemos observar un punto atipico, que indica que a mayor número de habitaciones, este tendra un valor medio de la vivienda menor, lo que requiere detallar."
      ],
      "metadata": {
        "id": "v7H4N-9gxfBo"
      }
    },
    {
      "cell_type": "markdown",
      "source": [
        "**f) ¿Cuál es el precio medio de las viviendas cuyo número medio de habitaciones oscila entre 3 y 4 o 5 y 6?**\n"
      ],
      "metadata": {
        "id": "soDmc9jzyGNp"
      }
    },
    {
      "cell_type": "code",
      "source": [
        "def precio_medio_3_4(rm, means):\n",
        "  medios_filtrados = means[np.logical_and(rm >5, rm < 6)]\n",
        "  return np.mean(medios_filtrados) * 1000"
      ],
      "metadata": {
        "id": "DSUVk69u0O1h"
      },
      "execution_count": 72,
      "outputs": []
    },
    {
      "cell_type": "code",
      "source": [
        "print(\"El precio medio de las viviendas cuyo número medio de habitaciones oscila entre 3 y 4 es: \", precio_medio_3_4(nX,nY))"
      ],
      "metadata": {
        "colab": {
          "base_uri": "https://localhost:8080/",
          "height": 0
        },
        "id": "_NRU3D9i0xLB",
        "outputId": "fdf950dc-6532-4b0d-feb9-6fb61c4e9cbd"
      },
      "execution_count": 73,
      "outputs": [
        {
          "output_type": "stream",
          "name": "stdout",
          "text": [
            "El precio medio de las viviendas cuyo número medio de habitaciones oscila entre 3 y 4 es:  17551.5923566879\n"
          ]
        }
      ]
    },
    {
      "cell_type": "markdown",
      "source": [
        "**g) Si usted realiza histograma del MEDV (Valor medio de la vivienda), identifica algún fenómeno anómalo en la distribución de datos?**"
      ],
      "metadata": {
        "id": "GjQLMHd-1lCy"
      }
    },
    {
      "cell_type": "code",
      "source": [
        "def histograma_medv(medv):\n",
        "  plt.hist(nY, bins=250)\n",
        "  plt.show"
      ],
      "metadata": {
        "id": "39JP4Gb41qmi"
      },
      "execution_count": 81,
      "outputs": []
    },
    {
      "cell_type": "code",
      "source": [
        "histograma_medv(nY)"
      ],
      "metadata": {
        "colab": {
          "base_uri": "https://localhost:8080/",
          "height": 265
        },
        "id": "kbFDMyQ_2HGS",
        "outputId": "434a61e9-92de-4927-b70d-7c181736ba04"
      },
      "execution_count": 82,
      "outputs": [
        {
          "output_type": "display_data",
          "data": {
            "text/plain": [
              "<Figure size 432x288 with 1 Axes>"
            ],
            "image/png": "[encoded data removed]"
          },
          "metadata": {
            "needs_background": "light"
          }
        }
      ]
    },
    {
      "cell_type": "markdown",
      "source": [
        "Se observa anomalia para cuando el valor medio de la vivienda es mayor a 25, y pienso que es debido al preprocesamiento previo de los datos"
      ],
      "metadata": {
        "id": "HbbFXtCT253S"
      }
    },
    {
      "cell_type": "markdown",
      "source": [
        "**h) Utilice la función “LinearRegression()” de SKlearn para entrenar un modelo de regresión lineal simple que le permita determinar el valor de intersección y la pendiente y explique qué significan estos valores y para que sirven.**"
      ],
      "metadata": {
        "id": "wC5l5lqA3eAD"
      }
    },
    {
      "cell_type": "code",
      "source": [
        "lX = np.array(nX).reshape(-1, 1)\n",
        "lY = np.array(nY).reshape(-1, 1)\n",
        "\n",
        "nX.dropna(inplace=True)\n",
        "\n",
        "lX_train, lX_test, lY_train, lY_test = train_test_split(lX, lY, test_size = 0.25)\n",
        "\n",
        "regresion_lineal = LinearRegression()\n",
        "\n",
        "regresion_lineal.fit(lX_train, lY_train)\n",
        "print(regresion_lineal.score(lX_test, lY_test))"
      ],
      "metadata": {
        "colab": {
          "base_uri": "https://localhost:8080/",
          "height": 0
        },
        "id": "ogpWroYv6Bwj",
        "outputId": "71598eed-224f-43a6-f98d-44c2258d196d"
      },
      "execution_count": 106,
      "outputs": [
        {
          "output_type": "stream",
          "name": "stdout",
          "text": [
            "0.495853107195497\n"
          ]
        }
      ]
    },
    {
      "cell_type": "code",
      "source": [
        "lY_pred = regresion_lineal.predict(lX_test)\n",
        "plt.scatter(lX_test, lY_pred, color='c')\n",
        "plt.plot(lX_test, lY_pred, color='k')\n",
        "plt.show()"
      ],
      "metadata": {
        "colab": {
          "base_uri": "https://localhost:8080/",
          "height": 265
        },
        "id": "h1GGeqL570Qt",
        "outputId": "c41d2751-633d-489c-be08-a9e1ac98a8f7"
      },
      "execution_count": 107,
      "outputs": [
        {
          "output_type": "display_data",
          "data": {
            "text/plain": [
              "<Figure size 432x288 with 1 Axes>"
            ],
            "image/png": "[encoded data removed]"
          },
          "metadata": {
            "needs_background": "light"
          }
        }
      ]
    }
  ]
}